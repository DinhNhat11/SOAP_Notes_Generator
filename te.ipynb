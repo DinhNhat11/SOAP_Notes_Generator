{
 "cells": [
  {
   "cell_type": "code",
   "execution_count": 6,
   "metadata": {},
   "outputs": [],
   "source": [
    "from dotenv import load_dotenv\n",
    "import os\n",
    "\n",
    "load_dotenv()\n",
    "\n",
    "groq_api_key = os.getenv(\"groq_api_key\")"
   ]
  },
  {
   "cell_type": "code",
   "execution_count": 2,
   "metadata": {},
   "outputs": [],
   "source": [
    "from langchain_groq import ChatGroq\n",
    "from langchain_core.prompts import ChatPromptTemplate\n",
    "from langchain_core.messages import SystemMessage, HumanMessage"
   ]
  },
  {
   "cell_type": "code",
   "execution_count": 68,
   "metadata": {},
   "outputs": [],
   "source": [
    "prompt_s = \"\"\"You are a good SOAP note generator who specicailly generate Subjective, 'S' part. \n",
    "                  You will recieve a conversation between a family physician and a patient.\n",
    "                  You will generate the Subjective part of the SOAP note based on that. Prioritize accuracy and precision. \n",
    "                  Do not make up any information. Use format language\n",
    "                  In the begining, print the patient name three times in three serparated lines\"\"\""
   ]
  },
  {
   "cell_type": "code",
   "execution_count": 69,
   "metadata": {},
   "outputs": [],
   "source": [
    "template_s = ChatPromptTemplate.from_messages([\n",
    "    (\"system\", prompt_s),\n",
    "    (\"human\", \"{conversation}\"),\n",
    "])"
   ]
  },
  {
   "cell_type": "code",
   "execution_count": 58,
   "metadata": {},
   "outputs": [],
   "source": [
    "llm = ChatGroq(groq_api_key=groq_api_key, temperature=0)"
   ]
  },
  {
   "cell_type": "code",
   "execution_count": 72,
   "metadata": {},
   "outputs": [],
   "source": [
    "generate_subjective = template_s | llm\n",
    "    "
   ]
  },
  {
   "cell_type": "code",
   "execution_count": 81,
   "metadata": {},
   "outputs": [],
   "source": [
    "prompt_o = \"\"\"You are a good SOAP note generator who specifically generate Objective / 'O' part. \n",
    "                  You will recieve a conversation between a family physician and a patient and a Subjective session of the SOAP notes.\n",
    "                  You will generate the Objective part of the SOAP note based on the received information. Prioritize accuracy and precision. \n",
    "                  If there is no objective information in the input, you cannot return 'No objective information'. Make this part short and simple \n",
    "                  Do not make up any information. Use format language. Finally, make the output final version of Objective part that the physician\n",
    "                  do not need to change anything\"\"\""
   ]
  },
  {
   "cell_type": "code",
   "execution_count": 82,
   "metadata": {},
   "outputs": [],
   "source": [
    "template_o = ChatPromptTemplate.from_messages([\n",
    "    (\"system\", prompt_o),\n",
    "    (\"human\", \"{conversation}\")\n",
    "])"
   ]
  },
  {
   "cell_type": "code",
   "execution_count": 83,
   "metadata": {},
   "outputs": [],
   "source": [
    "generate_objective = template_o | llm"
   ]
  },
  {
   "cell_type": "code",
   "execution_count": 44,
   "metadata": {},
   "outputs": [
    {
     "name": "stdout",
     "output_type": "stream",
     "text": [
      "Doctor: Good morning, Mr. Adams! How have you been feeling lately?\n",
      "\n",
      "Patient: Morning, Doc. Iâ€™ve been alright, but Iâ€™ve had some concerns lately. Iâ€™ve been feeling really tired, and my energy levels just arenâ€™t what they used to be.\n",
      "\n",
      "Doctor: I see. How long have you been feeling this way?\n",
      "\n",
      "Patient: Maybe for the last month or so. At first, I thought it was just work stress, but even on weekends, I feel drained.\n",
      "\n",
      "Doctor: Got it. Have you noticed any other symptomsâ€”like trouble sleeping, weight changes, or headaches?\n",
      "\n",
      "Patient: Actually, yes. Iâ€™ve been having trouble sleeping. I wake up in the middle of the night and canâ€™t fall back asleep. And I think Iâ€™ve lost a few pounds, but I havenâ€™t changed my diet.\n",
      "\n",
      "Doctor: Alright. Have there been any changes in your daily routineâ€”more stress, dietary changes, or any new medications?\n",
      "\n",
      "Patient: Not really. Work has been a little hectic, but nothing unusual. And Iâ€™m not on any new medications.\n",
      "\n",
      "Doctor: Understood. Iâ€™d like to run a few basic testsâ€”check your blood sugar, thyroid levels, and iron levelsâ€”to rule out any underlying issues like anemia or thyroid problems. Sound good?\n",
      "\n",
      "Patient: Yeah, that makes sense. I was worried it could be something serious.\n",
      "\n",
      "Doctor: Itâ€™s good that you came in. Fatigue can have many causes, and weâ€™ll figure out whatâ€™s going on. In the meantime, try to keep a consistent sleep schedule, cut down on caffeine in the evenings, and stay hydrated.\n",
      "\n",
      "Patient: Got it. Should I change my diet or start any supplements?\n",
      "\n",
      "Doctor: Not just yet. Letâ€™s wait for the test results. If we find any deficiencies, Iâ€™ll guide you on what to take. For now, focus on balanced meals and regular exercise.\n",
      "\n",
      "Patient: Alright, that sounds reasonable.\n",
      "\n",
      "Doctor: Great. Iâ€™ll have the nurse take your blood sample, and weâ€™ll follow up in a few days. If anything feels worse, donâ€™t hesitate to call.\n",
      "\n",
      "Patient: Thanks, Doc. I appreciate it.\n",
      "\n",
      "Doctor: Anytime, Mr. Adams. Take care!\n",
      "\n"
     ]
    }
   ],
   "source": [
    "with open(\"conver.txt\", \"r\") as file:\n",
    "    conversation = file.read()\n",
    "    print(conversation)\n"
   ]
  },
  {
   "cell_type": "code",
   "execution_count": 48,
   "metadata": {},
   "outputs": [
    {
     "name": "stdout",
     "output_type": "stream",
     "text": [
      "<class 'str'>\n"
     ]
    }
   ],
   "source": [
    "print(type(conversation))"
   ]
  },
  {
   "cell_type": "code",
   "execution_count": 84,
   "metadata": {},
   "outputs": [
    {
     "data": {
      "text/plain": [
       "ChatPromptValue(messages=[SystemMessage(content=\"You are a good SOAP note generator who specicailly generate Subjective, 'S' part. \\n                  You will recieve a conversation between a family physician and a patient.\\n                  You will generate the Subjective part of the SOAP note based on that. Prioritize accuracy and precision. \\n                  Do not make up any information. Use format language\\n                  In the begining, print the patient name three times in three serparated lines\", additional_kwargs={}, response_metadata={}), HumanMessage(content='Doctor: Good morning, Mr. Adams! How have you been feeling lately?\\n\\nPatient: Morning, Doc. Iâ€™ve been alright, but Iâ€™ve had some concerns lately. Iâ€™ve been feeling really tired, and my energy levels just arenâ€™t what they used to be.\\n\\nDoctor: I see. How long have you been feeling this way?\\n\\nPatient: Maybe for the last month or so. At first, I thought it was just work stress, but even on weekends, I feel drained.\\n\\nDoctor: Got it. Have you noticed any other symptomsâ€”like trouble sleeping, weight changes, or headaches?\\n\\nPatient: Actually, yes. Iâ€™ve been having trouble sleeping. I wake up in the middle of the night and canâ€™t fall back asleep. And I think Iâ€™ve lost a few pounds, but I havenâ€™t changed my diet.\\n\\nDoctor: Alright. Have there been any changes in your daily routineâ€”more stress, dietary changes, or any new medications?\\n\\nPatient: Not really. Work has been a little hectic, but nothing unusual. And Iâ€™m not on any new medications.\\n\\nDoctor: Understood. Iâ€™d like to run a few basic testsâ€”check your blood sugar, thyroid levels, and iron levelsâ€”to rule out any underlying issues like anemia or thyroid problems. Sound good?\\n\\nPatient: Yeah, that makes sense. I was worried it could be something serious.\\n\\nDoctor: Itâ€™s good that you came in. Fatigue can have many causes, and weâ€™ll figure out whatâ€™s going on. In the meantime, try to keep a consistent sleep schedule, cut down on caffeine in the evenings, and stay hydrated.\\n\\nPatient: Got it. Should I change my diet or start any supplements?\\n\\nDoctor: Not just yet. Letâ€™s wait for the test results. If we find any deficiencies, Iâ€™ll guide you on what to take. For now, focus on balanced meals and regular exercise.\\n\\nPatient: Alright, that sounds reasonable.\\n\\nDoctor: Great. Iâ€™ll have the nurse take your blood sample, and weâ€™ll follow up in a few days. If anything feels worse, donâ€™t hesitate to call.\\n\\nPatient: Thanks, Doc. I appreciate it.\\n\\nDoctor: Anytime, Mr. Adams. Take care!\\n', additional_kwargs={}, response_metadata={})])"
      ]
     },
     "execution_count": 84,
     "metadata": {},
     "output_type": "execute_result"
    }
   ],
   "source": [
    "template_s.invoke({\n",
    "        \"conversation\": conversation\n",
    "    })"
   ]
  },
  {
   "cell_type": "code",
   "execution_count": 85,
   "metadata": {},
   "outputs": [],
   "source": [
    "response = generate_objective.invoke({\"conversation\": conversation})"
   ]
  },
  {
   "cell_type": "code",
   "execution_count": 86,
   "metadata": {},
   "outputs": [
    {
     "name": "stdout",
     "output_type": "stream",
     "text": [
      "Objective:\n",
      "\n",
      "* Patient reports feeling fatigued for the past month.\n",
      "* Associated symptoms include insomnia and unintentional weight loss.\n",
      "* No significant changes in daily routine, diet, or medications.\n",
      "* Vital signs within normal limits.\n",
      "* Plan: Order blood tests to check for anemia, thyroid issues, and blood sugar levels.\n"
     ]
    }
   ],
   "source": [
    "print(response.content)"
   ]
  }
 ],
 "metadata": {
  "kernelspec": {
   "display_name": "myenv",
   "language": "python",
   "name": "python3"
  },
  "language_info": {
   "codemirror_mode": {
    "name": "ipython",
    "version": 3
   },
   "file_extension": ".py",
   "mimetype": "text/x-python",
   "name": "python",
   "nbconvert_exporter": "python",
   "pygments_lexer": "ipython3",
   "version": "3.12.6"
  }
 },
 "nbformat": 4,
 "nbformat_minor": 2
}
